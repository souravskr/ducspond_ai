{
  "nbformat": 4,
  "nbformat_minor": 0,
  "metadata": {
    "colab": {
      "name": "SVHN-CNN.ipynb",
      "version": "0.3.2",
      "provenance": [],
      "include_colab_link": true
    },
    "kernelspec": {
      "name": "python3",
      "display_name": "Python 3"
    },
    "accelerator": "GPU"
  },
  "cells": [
    {
      "cell_type": "markdown",
      "metadata": {
        "id": "view-in-github",
        "colab_type": "text"
      },
      "source": [
        "<a href=\"https://colab.research.google.com/github/souravskr/ducspond_ai/blob/SVHN_CNN/SVHN_CNN.ipynb\" target=\"_parent\"><img src=\"https://colab.research.google.com/assets/colab-badge.svg\" alt=\"Open In Colab\"/></a>"
      ]
    },
    {
      "metadata": {
        "id": "DH6TEpdGLDld",
        "colab_type": "code",
        "colab": {}
      },
      "cell_type": "code",
      "source": [
        "# Libraries\n",
        "import keras\n",
        "from keras.models import Sequential, load_model\n",
        "from keras.layers import Dense, Dropout, Activation, BatchNormalization, Flatten\n",
        "from keras.layers.convolutional import Convolution2D, MaxPooling2D\n",
        "from keras.optimizers import SGD, Adadelta, Adagrad\n",
        "from sklearn.model_selection import train_test_split\n",
        "from scipy.io import loadmat\n",
        "import numpy as np \n",
        "import pandas as pd\n",
        "import tensorflow as tf\n",
        "from tensorflow.keras.callbacks import  TensorBoard\n",
        "import matplotlib.pyplot as plt\n",
        "from google.colab import drive\n",
        "import time"
      ],
      "execution_count": 0,
      "outputs": []
    },
    {
      "metadata": {
        "id": "P4ZctrCdl-oL",
        "colab_type": "code",
        "colab": {}
      },
      "cell_type": "code",
      "source": [
        "NAME = 'SVHN_CNN-{}'.format(int(time.time()))\n",
        "tensorboard = TensorBoard(log_dir='drive/My Drive/Colab Notebooks/logs/{}'.format(NAME))"
      ],
      "execution_count": 0,
      "outputs": []
    },
    {
      "metadata": {
        "id": "nrxKhnadPTST",
        "colab_type": "code",
        "outputId": "4d84afc8-e112-499b-dcd9-e4f0225d0aea",
        "colab": {
          "base_uri": "https://localhost:8080/",
          "height": 34
        }
      },
      "cell_type": "code",
      "source": [
        "drive.mount('/content/drive')"
      ],
      "execution_count": 92,
      "outputs": [
        {
          "output_type": "stream",
          "text": [
            "Drive already mounted at /content/drive; to attempt to forcibly remount, call drive.mount(\"/content/drive\", force_remount=True).\n"
          ],
          "name": "stdout"
        }
      ]
    },
    {
      "metadata": {
        "id": "jKae3OaiowBA",
        "colab_type": "text"
      },
      "cell_type": "markdown",
      "source": [
        "# Data Processing\n",
        "\n",
        "\n",
        "## Uploading the dataset"
      ]
    },
    {
      "metadata": {
        "id": "QtB_5UL9OIX2",
        "colab_type": "code",
        "colab": {}
      },
      "cell_type": "code",
      "source": [
        "train_data = loadmat('drive/My Drive/Colab Notebooks/train_32x32.mat')\n",
        "test_data = loadmat ('drive/My Drive/Colab Notebooks/test_32x32.mat')"
      ],
      "execution_count": 0,
      "outputs": []
    },
    {
      "metadata": {
        "id": "j19F3rPcp7RG",
        "colab_type": "text"
      },
      "cell_type": "markdown",
      "source": [
        "## Data Normalization\n",
        "We will scale our data by making all the value between 0 to 1. To do that we will devide our training and testing dataset by 255."
      ]
    },
    {
      "metadata": {
        "id": "eDtJceEtWm6S",
        "colab_type": "code",
        "colab": {}
      },
      "cell_type": "code",
      "source": [
        "# Splitting train and test data into X and y\n",
        "X_train, y_train = train_data['X'], train_data['y']\n",
        "X_test, y_test = test_data['X'], test_data['y']\n",
        "X_train, X_test = X_train / 255.0, X_test / 255.0"
      ],
      "execution_count": 0,
      "outputs": []
    },
    {
      "metadata": {
        "id": "DdUgQt1CtoDY",
        "colab_type": "text"
      },
      "cell_type": "markdown",
      "source": [
        "#### Transposing the image arrays\n",
        "Our training and testing data shape is **32, 32, 3, 73257** and **32, 32, 3, 26032** respectively. We will reverse the image arrays of the training and testing set as **73257,32, 32, 3** and **26032,32, 32, 3**."
      ]
    },
    {
      "metadata": {
        "id": "ylQDAkOMbNSa",
        "colab_type": "code",
        "colab": {}
      },
      "cell_type": "code",
      "source": [
        "X_train, y_train = X_train.transpose((3,0,1,2)), y_train[:,0]\n",
        "X_test, y_test = X_test.transpose((3,0,1,2)), y_test[:,0]"
      ],
      "execution_count": 0,
      "outputs": []
    },
    {
      "metadata": {
        "id": "i48OLAfht9ZG",
        "colab_type": "text"
      },
      "cell_type": "markdown",
      "source": [
        "**Now, we will  convert the class \"10\" as \"0\" so that we can get 0 to 9 classes.** "
      ]
    },
    {
      "metadata": {
        "id": "aYYc9JJRGxpe",
        "colab_type": "code",
        "colab": {}
      },
      "cell_type": "code",
      "source": [
        "y_train[y_train == 10] = 0\n",
        "y_test[y_test == 10] = 0"
      ],
      "execution_count": 0,
      "outputs": []
    },
    {
      "metadata": {
        "id": "EjndRXgfeJ-X",
        "colab_type": "code",
        "colab": {}
      },
      "cell_type": "code",
      "source": [
        "y_train = tf.keras.utils.to_categorical(y_train, num_classes = 10)"
      ],
      "execution_count": 0,
      "outputs": []
    },
    {
      "metadata": {
        "id": "Mh8J8WT6ebaT",
        "colab_type": "text"
      },
      "cell_type": "markdown",
      "source": [
        "##Training Dataset Splitting \n",
        "We will split our training data for training and validation of our model, where validation size will be **20%** of the training data."
      ]
    },
    {
      "metadata": {
        "id": "g3dLCFlw-82B",
        "colab_type": "code",
        "colab": {}
      },
      "cell_type": "code",
      "source": [
        "X_train, X_val, y_train, y_val = train_test_split (X_train, y_train, test_size = 0.2, random_state = 0)"
      ],
      "execution_count": 0,
      "outputs": []
    },
    {
      "metadata": {
        "id": "D5ksmym1BLUp",
        "colab_type": "text"
      },
      "cell_type": "markdown",
      "source": [
        "# Model\n",
        "Now we will build our **four layers** convolution neural network. For the **first two layers**, we will use a layer size of **32** and the for the **last two** the layer size would be **64**. **Kernel size will be 3-by-3 for all of them.**"
      ]
    },
    {
      "metadata": {
        "id": "helrvbFe_DpE",
        "colab_type": "code",
        "colab": {}
      },
      "cell_type": "code",
      "source": [
        "model = Sequential()\n",
        "# First Layer\n",
        "model.add(Convolution2D(32, [3, 3], input_shape=(32, 32, 3), padding='same'))\n",
        "model.add(Activation('relu'))\n",
        "model.add(BatchNormalization())\n",
        "\n",
        "# Second Layer\n",
        "model.add(Convolution2D(32, [3, 3]))\n",
        "model.add(Activation('relu'))\n",
        "model.add(BatchNormalization())\n",
        "model.add(MaxPooling2D(pool_size=(2, 2)))\n",
        "\n",
        "# Third Layer\n",
        "model.add(Dropout(0.25))\n",
        "model.add(Convolution2D(64, [3, 3], padding='same'))\n",
        "model.add(Activation('relu'))\n",
        "model.add(BatchNormalization())\n",
        "\n",
        "# Fourth Layer\n",
        "model.add(Convolution2D(64, [3, 3]))\n",
        "model.add(Activation('relu'))\n",
        "model.add(BatchNormalization())\n",
        "model.add(MaxPooling2D(pool_size=(2, 2)))\n",
        "\n",
        "# Fifth Layer\n",
        "model.add(Dropout(0.25))\n",
        "model.add(Flatten())\n",
        "model.add(BatchNormalization())\n",
        "model.add(Dense(512))\n",
        "\n",
        "# Output Layer\n",
        "model.add(Activation('relu'))\n",
        "model.add(BatchNormalization())\n",
        "model.add(Dropout(0.25))\n",
        "model.add(Dense(10))\n",
        "model.add(Activation('softmax'))\n",
        "\n",
        "sgd = SGD(lr=0.01, decay=1e-6, momentum=0.9, nesterov=True)\n",
        "model.compile(loss='categorical_crossentropy', optimizer=sgd,metrics=['accuracy'])"
      ],
      "execution_count": 0,
      "outputs": []
    },
    {
      "metadata": {
        "id": "84jkX2hpCDO-",
        "colab_type": "text"
      },
      "cell_type": "markdown",
      "source": [
        "###Here is the summary of our model"
      ]
    },
    {
      "metadata": {
        "id": "tatCb4SuLvYV",
        "colab_type": "code",
        "outputId": "2cf4c39d-5f6a-458f-ad4f-a0781c7789ee",
        "colab": {
          "base_uri": "https://localhost:8080/",
          "height": 952
        }
      },
      "cell_type": "code",
      "source": [
        "model.summary()"
      ],
      "execution_count": 100,
      "outputs": [
        {
          "output_type": "stream",
          "text": [
            "_________________________________________________________________\n",
            "Layer (type)                 Output Shape              Param #   \n",
            "=================================================================\n",
            "conv2d_77 (Conv2D)           (None, 32, 32, 32)        896       \n",
            "_________________________________________________________________\n",
            "activation_109 (Activation)  (None, 32, 32, 32)        0         \n",
            "_________________________________________________________________\n",
            "batch_normalization_111 (Bat (None, 32, 32, 32)        128       \n",
            "_________________________________________________________________\n",
            "conv2d_78 (Conv2D)           (None, 30, 30, 32)        9248      \n",
            "_________________________________________________________________\n",
            "activation_110 (Activation)  (None, 30, 30, 32)        0         \n",
            "_________________________________________________________________\n",
            "batch_normalization_112 (Bat (None, 30, 30, 32)        128       \n",
            "_________________________________________________________________\n",
            "max_pooling2d_45 (MaxPooling (None, 15, 15, 32)        0         \n",
            "_________________________________________________________________\n",
            "dropout_55 (Dropout)         (None, 15, 15, 32)        0         \n",
            "_________________________________________________________________\n",
            "conv2d_79 (Conv2D)           (None, 15, 15, 64)        18496     \n",
            "_________________________________________________________________\n",
            "activation_111 (Activation)  (None, 15, 15, 64)        0         \n",
            "_________________________________________________________________\n",
            "batch_normalization_113 (Bat (None, 15, 15, 64)        256       \n",
            "_________________________________________________________________\n",
            "conv2d_80 (Conv2D)           (None, 13, 13, 64)        36928     \n",
            "_________________________________________________________________\n",
            "activation_112 (Activation)  (None, 13, 13, 64)        0         \n",
            "_________________________________________________________________\n",
            "batch_normalization_114 (Bat (None, 13, 13, 64)        256       \n",
            "_________________________________________________________________\n",
            "max_pooling2d_46 (MaxPooling (None, 6, 6, 64)          0         \n",
            "_________________________________________________________________\n",
            "dropout_56 (Dropout)         (None, 6, 6, 64)          0         \n",
            "_________________________________________________________________\n",
            "flatten_23 (Flatten)         (None, 2304)              0         \n",
            "_________________________________________________________________\n",
            "batch_normalization_115 (Bat (None, 2304)              9216      \n",
            "_________________________________________________________________\n",
            "dense_44 (Dense)             (None, 512)               1180160   \n",
            "_________________________________________________________________\n",
            "activation_113 (Activation)  (None, 512)               0         \n",
            "_________________________________________________________________\n",
            "batch_normalization_116 (Bat (None, 512)               2048      \n",
            "_________________________________________________________________\n",
            "dropout_57 (Dropout)         (None, 512)               0         \n",
            "_________________________________________________________________\n",
            "dense_45 (Dense)             (None, 10)                5130      \n",
            "_________________________________________________________________\n",
            "activation_114 (Activation)  (None, 10)                0         \n",
            "=================================================================\n",
            "Total params: 1,262,890\n",
            "Trainable params: 1,256,874\n",
            "Non-trainable params: 6,016\n",
            "_________________________________________________________________\n"
          ],
          "name": "stdout"
        }
      ]
    },
    {
      "metadata": {
        "id": "czaFwR6hDVkt",
        "colab_type": "text"
      },
      "cell_type": "markdown",
      "source": [
        "# Training the Model\n",
        "So, we have built our model, now its time to train our model with X_train and y_train. We will use **10 epochs and batch size of 128**."
      ]
    },
    {
      "metadata": {
        "id": "yx3LaRj1gQ00",
        "colab_type": "code",
        "outputId": "1fcdfc7f-134d-4113-a1fb-395f79d48559",
        "colab": {
          "base_uri": "https://localhost:8080/",
          "height": 391
        }
      },
      "cell_type": "code",
      "source": [
        "model.fit(X_train, y_train, validation_data= (X_val, y_val), batch_size = 128, epochs= 10, verbose= 1, callbacks=[tensorboard])"
      ],
      "execution_count": 101,
      "outputs": [
        {
          "output_type": "stream",
          "text": [
            "Train on 58605 samples, validate on 14652 samples\n",
            "Epoch 1/10\n",
            "58605/58605 [==============================] - 24s 408us/step - loss: 0.9391 - acc: 0.7079 - val_loss: 0.5160 - val_acc: 0.8433\n",
            "Epoch 2/10\n",
            "58605/58605 [==============================] - 19s 322us/step - loss: 0.4555 - acc: 0.8607 - val_loss: 0.4579 - val_acc: 0.8633\n",
            "Epoch 3/10\n",
            "58605/58605 [==============================] - 19s 324us/step - loss: 0.3776 - acc: 0.8847 - val_loss: 0.3180 - val_acc: 0.9069\n",
            "Epoch 4/10\n",
            "58605/58605 [==============================] - 19s 324us/step - loss: 0.3341 - acc: 0.8970 - val_loss: 0.2883 - val_acc: 0.9157\n",
            "Epoch 5/10\n",
            "58605/58605 [==============================] - 19s 323us/step - loss: 0.3015 - acc: 0.9086 - val_loss: 0.3656 - val_acc: 0.8898\n",
            "Epoch 6/10\n",
            "58605/58605 [==============================] - 19s 323us/step - loss: 0.2759 - acc: 0.9157 - val_loss: 0.3348 - val_acc: 0.8989\n",
            "Epoch 7/10\n",
            "58605/58605 [==============================] - 19s 323us/step - loss: 0.2554 - acc: 0.9218 - val_loss: 0.2540 - val_acc: 0.9297\n",
            "Epoch 8/10\n",
            "58605/58605 [==============================] - 19s 323us/step - loss: 0.2359 - acc: 0.9284 - val_loss: 0.2553 - val_acc: 0.9281\n",
            "Epoch 9/10\n",
            "58605/58605 [==============================] - 19s 322us/step - loss: 0.2237 - acc: 0.9324 - val_loss: 0.2600 - val_acc: 0.9268\n",
            "Epoch 10/10\n",
            "58605/58605 [==============================] - 19s 321us/step - loss: 0.2052 - acc: 0.9368 - val_loss: 0.2471 - val_acc: 0.9303\n"
          ],
          "name": "stdout"
        },
        {
          "output_type": "execute_result",
          "data": {
            "text/plain": [
              "<keras.callbacks.History at 0x7f6c3433e438>"
            ]
          },
          "metadata": {
            "tags": []
          },
          "execution_count": 101
        }
      ]
    },
    {
      "metadata": {
        "id": "-j4S9vC0CRf-",
        "colab_type": "text"
      },
      "cell_type": "markdown",
      "source": [
        "After training our model, we have got\n",
        "* **93% out of sample accuracy and 24% out of sample loss** &\n",
        "* **94% in-sample accuracy and 21% in-sample loss**\n",
        "\n",
        "after 10 epochs.\n",
        "\n",
        "# Evaluation the Model\n",
        "With the ** X_test & y_test** we will evaluate our model, but before that we will organize the **y_test** categorically based on 10 classes.\n"
      ]
    },
    {
      "metadata": {
        "id": "AZFhHs4wRE16",
        "colab_type": "code",
        "colab": {}
      },
      "cell_type": "code",
      "source": [
        "y_test = tf.keras.utils.to_categorical(y_test, num_classes = 10)"
      ],
      "execution_count": 0,
      "outputs": []
    },
    {
      "metadata": {
        "id": "_MZGSO_DwXJR",
        "colab_type": "code",
        "outputId": "c256c7e9-c187-4a0b-8ce1-920bfe805f68",
        "colab": {
          "base_uri": "https://localhost:8080/",
          "height": 34
        }
      },
      "cell_type": "code",
      "source": [
        "val_loss, val_acc = model.evaluate (X_test, y_test)"
      ],
      "execution_count": 103,
      "outputs": [
        {
          "output_type": "stream",
          "text": [
            "26032/26032 [==============================] - 6s 227us/step\n"
          ],
          "name": "stdout"
        }
      ]
    },
    {
      "metadata": {
        "id": "bw0IF5m8RE4e",
        "colab_type": "code",
        "outputId": "843a03c5-821e-4a4e-d9d1-98b3131ecae3",
        "colab": {
          "base_uri": "https://localhost:8080/",
          "height": 34
        }
      },
      "cell_type": "code",
      "source": [
        "print(val_loss)"
      ],
      "execution_count": 104,
      "outputs": [
        {
          "output_type": "stream",
          "text": [
            "0.2743990381958665\n"
          ],
          "name": "stdout"
        }
      ]
    },
    {
      "metadata": {
        "id": "wYy4zZPnRE7G",
        "colab_type": "code",
        "outputId": "f06fab4a-c842-4e6a-9725-37de4ffb9080",
        "colab": {
          "base_uri": "https://localhost:8080/",
          "height": 34
        }
      },
      "cell_type": "code",
      "source": [
        "print(val_acc)"
      ],
      "execution_count": 105,
      "outputs": [
        {
          "output_type": "stream",
          "text": [
            "0.9229025814382299\n"
          ],
          "name": "stdout"
        }
      ]
    },
    {
      "metadata": {
        "id": "8GECXbbjFh17",
        "colab_type": "text"
      },
      "cell_type": "markdown",
      "source": [
        "###Okay, we have got **92% accuracy & 27% loss** on the testing dataset"
      ]
    },
    {
      "metadata": {
        "id": "VIOzCHaFF8RP",
        "colab_type": "text"
      },
      "cell_type": "markdown",
      "source": [
        "# Prediction"
      ]
    },
    {
      "metadata": {
        "id": "HLYdqjd1RFCV",
        "colab_type": "code",
        "colab": {}
      },
      "cell_type": "code",
      "source": [
        "predictions = model.predict(X_test)"
      ],
      "execution_count": 0,
      "outputs": []
    },
    {
      "metadata": {
        "id": "6pPeG9sCRFE0",
        "colab_type": "code",
        "outputId": "225801dd-ab85-4ff4-e9c5-c5f9e1294871",
        "colab": {
          "base_uri": "https://localhost:8080/",
          "height": 68
        }
      },
      "cell_type": "code",
      "source": [
        "predictions[0]"
      ],
      "execution_count": 107,
      "outputs": [
        {
          "output_type": "execute_result",
          "data": {
            "text/plain": [
              "array([4.3163313e-06, 3.3675584e-05, 1.0588793e-05, 7.6603174e-04,\n",
              "       5.5979099e-04, 9.8007005e-01, 9.4390484e-03, 8.8271266e-03,\n",
              "       8.4358493e-05, 2.0505831e-04], dtype=float32)"
            ]
          },
          "metadata": {
            "tags": []
          },
          "execution_count": 107
        }
      ]
    },
    {
      "metadata": {
        "id": "G6mz0Lp4RFHB",
        "colab_type": "code",
        "outputId": "82427ff4-ea4f-48a9-f964-1edf28ad7a7e",
        "colab": {
          "base_uri": "https://localhost:8080/",
          "height": 34
        }
      },
      "cell_type": "code",
      "source": [
        "np.argmax(predictions[5])"
      ],
      "execution_count": 108,
      "outputs": [
        {
          "output_type": "execute_result",
          "data": {
            "text/plain": [
              "1"
            ]
          },
          "metadata": {
            "tags": []
          },
          "execution_count": 108
        }
      ]
    },
    {
      "metadata": {
        "id": "rvxSnkVqahnp",
        "colab_type": "code",
        "colab": {}
      },
      "cell_type": "code",
      "source": [
        ""
      ],
      "execution_count": 0,
      "outputs": []
    },
    {
      "metadata": {
        "id": "NdYNIYTXL3pC",
        "colab_type": "code",
        "outputId": "891c1854-15ed-47c7-94c4-36415568e30f",
        "colab": {
          "base_uri": "https://localhost:8080/",
          "height": 34
        }
      },
      "cell_type": "code",
      "source": [
        "np.argmax(y_test[5])"
      ],
      "execution_count": 109,
      "outputs": [
        {
          "output_type": "execute_result",
          "data": {
            "text/plain": [
              "1"
            ]
          },
          "metadata": {
            "tags": []
          },
          "execution_count": 109
        }
      ]
    },
    {
      "metadata": {
        "id": "qZ3WT_lYTI6e",
        "colab_type": "code",
        "outputId": "6eb8d60a-e7c7-4a39-986b-d421630a81e7",
        "colab": {
          "base_uri": "https://localhost:8080/",
          "height": 364
        }
      },
      "cell_type": "code",
      "source": [
        "plt.imshow(X_test[0])"
      ],
      "execution_count": 110,
      "outputs": [
        {
          "output_type": "execute_result",
          "data": {
            "text/plain": [
              "<matplotlib.image.AxesImage at 0x7f6b6ca32080>"
            ]
          },
          "metadata": {
            "tags": []
          },
          "execution_count": 110
        },
        {
          "output_type": "display_data",
          "data": {
            "image/png": "[encoded data removed]",
            "text/plain": [
              "<Figure size 576x396 with 1 Axes>"
            ]
          },
          "metadata": {
            "tags": []
          }
        }
      ]
    },
    {
      "metadata": {
        "id": "lvOFjWMbhCK3",
        "colab_type": "code",
        "colab": {}
      },
      "cell_type": "code",
      "source": [
        "class_names = ['Zero','One', 'Two', 'Three', 'Four', 'Five', 'Six', 'Seven', 'Eight', 'Nine']"
      ],
      "execution_count": 0,
      "outputs": []
    },
    {
      "metadata": {
        "id": "Q4xJQfY7w9Bb",
        "colab_type": "text"
      },
      "cell_type": "markdown",
      "source": [
        "# Plotting graph\n",
        "####Now we will plot a graph of a set of 10 channels, where correct and incorrect predictions will be labelled as blue and red. It will also a percentage (0 to 100) for the predicted label."
      ]
    },
    {
      "metadata": {
        "id": "SpZuWpmlZF3a",
        "colab_type": "code",
        "colab": {}
      },
      "cell_type": "code",
      "source": [
        "def plot_image(i, predictions_array, true_label, img):\n",
        "  predictions_array, true_label, img = predictions_array[i], true_label[i], img[i]\n",
        "  plt.grid(False)\n",
        "  plt.xticks([])\n",
        "  plt.yticks([])\n",
        "  \n",
        "  plt.imshow(img, cmap=plt.cm.binary)\n",
        "\n",
        "  predicted_label = np.argmax(predictions_array)\n",
        "  true_label = np.argmax(true_label)\n",
        "  if predicted_label == true_label:\n",
        "    color = 'blue'\n",
        "  else:\n",
        "    color = 'red'\n",
        "  \n",
        "  plt.xlabel(\"{} {:2.0f}% ({})\".format(class_names[predicted_label],\n",
        "                                100*np.max(predictions_array),\n",
        "                                class_names[true_label]),\n",
        "                                color=color)\n",
        "\n",
        "def plot_value_array(i, predictions_array, true_label):\n",
        "  predictions_array, true_label = predictions_array[i], true_label[i]\n",
        "  plt.grid(False)\n",
        "  plt.xticks([])\n",
        "  plt.yticks([])\n",
        "  thisplot = plt.bar(range(10), predictions_array, color=\"#777777\")\n",
        "  plt.ylim([0, 1]) \n",
        "  predicted_label = np.argmax(predictions_array)\n",
        "  true_label = np.argmax(true_label)\n",
        " \n",
        "  thisplot[predicted_label].set_color('red')\n",
        "  thisplot[true_label].set_color('blue')"
      ],
      "execution_count": 0,
      "outputs": []
    },
    {
      "metadata": {
        "id": "YXYqXmnmX9LX",
        "colab_type": "code",
        "colab": {}
      },
      "cell_type": "code",
      "source": [
        ""
      ],
      "execution_count": 0,
      "outputs": []
    },
    {
      "metadata": {
        "id": "L9hK-URQYAJZ",
        "colab_type": "code",
        "outputId": "28448bf0-ab50-4fb9-e3d4-dce607120717",
        "colab": {
          "base_uri": "https://localhost:8080/",
          "height": 203
        }
      },
      "cell_type": "code",
      "source": [
        "i = 0\n",
        "plt.figure(figsize=(6,3))\n",
        "plt.subplot(1,2,1)\n",
        "plot_image(i, predictions, y_test, X_test)\n",
        "plt.subplot(1,2,2)\n",
        "plot_value_array(i, predictions,  y_test)\n",
        "plt.show()"
      ],
      "execution_count": 113,
      "outputs": [
        {
          "output_type": "display_data",
          "data": {
            "image/png": "[encoded data removed]",
            "text/plain": [
              "<Figure size 432x216 with 2 Axes>"
            ]
          },
          "metadata": {
            "tags": []
          }
        }
      ]
    },
    {
      "metadata": {
        "id": "I4_ImsapYBFL",
        "colab_type": "code",
        "colab": {}
      },
      "cell_type": "code",
      "source": [
        ""
      ],
      "execution_count": 0,
      "outputs": []
    },
    {
      "metadata": {
        "id": "-hjg17Lldfui",
        "colab_type": "code",
        "outputId": "04cf85bb-81d7-4088-97d2-bf2c1188d0b7",
        "colab": {
          "base_uri": "https://localhost:8080/",
          "height": 589
        }
      },
      "cell_type": "code",
      "source": [
        "num_rows = 5\n",
        "num_cols = 3\n",
        "num_images = num_rows*num_cols\n",
        "plt.figure(figsize=(2*2*num_cols, 2*num_rows))\n",
        "for i in range(num_images):\n",
        "  plt.subplot(num_rows, 2*num_cols, 2*i+1)\n",
        "  plot_image(i, predictions, y_test, X_test)\n",
        "  plt.subplot(num_rows, 2*num_cols, 2*i+2)\n",
        "  plot_value_array(i, predictions,  y_test)\n",
        "plt.show()"
      ],
      "execution_count": 114,
      "outputs": [
        {
          "output_type": "display_data",
          "data": {
            "image/png": "[encoded data removed]",
            "text/plain": [
              "<Figure size 864x720 with 30 Axes>"
            ]
          },
          "metadata": {
            "tags": []
          }
        }
      ]
    },
    {
      "metadata": {
        "id": "v3BHqb2hY00_",
        "colab_type": "code",
        "colab": {}
      },
      "cell_type": "code",
      "source": [
        "model.save('SVHN_CNN.h5')"
      ],
      "execution_count": 0,
      "outputs": []
    },
    {
      "metadata": {
        "id": "UMHJGjhFlT0R",
        "colab_type": "code",
        "colab": {}
      },
      "cell_type": "code",
      "source": [
        ""
      ],
      "execution_count": 0,
      "outputs": []
    }
  ]
}